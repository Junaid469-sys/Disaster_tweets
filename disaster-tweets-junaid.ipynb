{
 "cells": [
  {
   "cell_type": "code",
   "execution_count": 1,
   "id": "adf5bb95",
   "metadata": {
    "_cell_guid": "b1076dfc-b9ad-4769-8c92-a6c4dae69d19",
    "_uuid": "8f2839f25d086af736a60e9eeb907d3b93b6e0e5",
    "execution": {
     "iopub.execute_input": "2025-01-19T10:05:01.326719Z",
     "iopub.status.busy": "2025-01-19T10:05:01.326330Z",
     "iopub.status.idle": "2025-01-19T10:05:02.174759Z",
     "shell.execute_reply": "2025-01-19T10:05:02.173544Z"
    },
    "papermill": {
     "duration": 0.857028,
     "end_time": "2025-01-19T10:05:02.177054",
     "exception": false,
     "start_time": "2025-01-19T10:05:01.320026",
     "status": "completed"
    },
    "tags": []
   },
   "outputs": [
    {
     "name": "stdout",
     "output_type": "stream",
     "text": [
      "/kaggle/input/nlp-getting-started/sample_submission.csv\n",
      "/kaggle/input/nlp-getting-started/train.csv\n",
      "/kaggle/input/nlp-getting-started/test.csv\n"
     ]
    }
   ],
   "source": [
    "# This Python 3 environment comes with many helpful analytics libraries installed\n",
    "# It is defined by the kaggle/python Docker image: https://github.com/kaggle/docker-python\n",
    "# For example, here's several helpful packages to load\n",
    "\n",
    "import numpy as np # linear algebra\n",
    "import pandas as pd # data processing, CSV file I/O (e.g. pd.read_csv)\n",
    "\n",
    "# Input data files are available in the read-only \"../input/\" directory\n",
    "# For example, running this (by clicking run or pressing Shift+Enter) will list all files under the input directory\n",
    "\n",
    "import os\n",
    "for dirname, _, filenames in os.walk('/kaggle/input'):\n",
    "    for filename in filenames:\n",
    "        print(os.path.join(dirname, filename))\n",
    "\n",
    "# You can write up to 20GB to the current directory (/kaggle/working/) that gets preserved as output when you create a version using \"Save & Run All\" \n",
    "# You can also write temporary files to /kaggle/temp/, but they won't be saved outside of the current session"
   ]
  },
  {
   "cell_type": "code",
   "execution_count": 2,
   "id": "79ef5a47",
   "metadata": {
    "execution": {
     "iopub.execute_input": "2025-01-19T10:05:02.188146Z",
     "iopub.status.busy": "2025-01-19T10:05:02.187548Z",
     "iopub.status.idle": "2025-01-19T10:05:04.348594Z",
     "shell.execute_reply": "2025-01-19T10:05:04.347404Z"
    },
    "papermill": {
     "duration": 2.168639,
     "end_time": "2025-01-19T10:05:04.350752",
     "exception": false,
     "start_time": "2025-01-19T10:05:02.182113",
     "status": "completed"
    },
    "tags": []
   },
   "outputs": [],
   "source": [
    "import pandas as pd\n",
    "import re\n",
    "from nltk.corpus import stopwords\n",
    "import nltk\n",
    "from sklearn.feature_extraction.text import TfidfVectorizer\n",
    "from sklearn.linear_model import LogisticRegression\n",
    "from sklearn.metrics import f1_score\n"
   ]
  },
  {
   "cell_type": "code",
   "execution_count": 3,
   "id": "2f72e45e",
   "metadata": {
    "execution": {
     "iopub.execute_input": "2025-01-19T10:05:04.362950Z",
     "iopub.status.busy": "2025-01-19T10:05:04.362431Z",
     "iopub.status.idle": "2025-01-19T10:05:04.444468Z",
     "shell.execute_reply": "2025-01-19T10:05:04.443274Z"
    },
    "papermill": {
     "duration": 0.090353,
     "end_time": "2025-01-19T10:05:04.446434",
     "exception": false,
     "start_time": "2025-01-19T10:05:04.356081",
     "status": "completed"
    },
    "tags": []
   },
   "outputs": [],
   "source": [
    "# Load datasets\n",
    "train_df = pd.read_csv(\"/kaggle/input/nlp-getting-started/train.csv\")\n",
    "test_df = pd.read_csv(\"/kaggle/input/nlp-getting-started/test.csv\")"
   ]
  },
  {
   "cell_type": "code",
   "execution_count": 4,
   "id": "607aa0f8",
   "metadata": {
    "execution": {
     "iopub.execute_input": "2025-01-19T10:05:04.457119Z",
     "iopub.status.busy": "2025-01-19T10:05:04.456725Z",
     "iopub.status.idle": "2025-01-19T10:05:04.470278Z",
     "shell.execute_reply": "2025-01-19T10:05:04.468951Z"
    },
    "papermill": {
     "duration": 0.020855,
     "end_time": "2025-01-19T10:05:04.472223",
     "exception": false,
     "start_time": "2025-01-19T10:05:04.451368",
     "status": "completed"
    },
    "tags": []
   },
   "outputs": [
    {
     "name": "stdout",
     "output_type": "stream",
     "text": [
      "Train Data:\n",
      "   id keyword location                                               text  \\\n",
      "0   1     NaN      NaN  Our Deeds are the Reason of this #earthquake M...   \n",
      "1   4     NaN      NaN             Forest fire near La Ronge Sask. Canada   \n",
      "2   5     NaN      NaN  All residents asked to 'shelter in place' are ...   \n",
      "3   6     NaN      NaN  13,000 people receive #wildfires evacuation or...   \n",
      "4   7     NaN      NaN  Just got sent this photo from Ruby #Alaska as ...   \n",
      "\n",
      "   target  \n",
      "0       1  \n",
      "1       1  \n",
      "2       1  \n",
      "3       1  \n",
      "4       1  \n"
     ]
    }
   ],
   "source": [
    "# Display the first few rows of the datasets\n",
    "print(\"Train Data:\")\n",
    "print(train_df.head())\n"
   ]
  },
  {
   "cell_type": "code",
   "execution_count": 5,
   "id": "be45efc9",
   "metadata": {
    "execution": {
     "iopub.execute_input": "2025-01-19T10:05:04.482907Z",
     "iopub.status.busy": "2025-01-19T10:05:04.482562Z",
     "iopub.status.idle": "2025-01-19T10:05:04.489307Z",
     "shell.execute_reply": "2025-01-19T10:05:04.488242Z"
    },
    "papermill": {
     "duration": 0.014012,
     "end_time": "2025-01-19T10:05:04.491038",
     "exception": false,
     "start_time": "2025-01-19T10:05:04.477026",
     "status": "completed"
    },
    "tags": []
   },
   "outputs": [
    {
     "name": "stdout",
     "output_type": "stream",
     "text": [
      "\n",
      "Test Data:\n",
      "   id keyword location                                               text\n",
      "0   0     NaN      NaN                 Just happened a terrible car crash\n",
      "1   2     NaN      NaN  Heard about #earthquake is different cities, s...\n",
      "2   3     NaN      NaN  there is a forest fire at spot pond, geese are...\n",
      "3   9     NaN      NaN           Apocalypse lighting. #Spokane #wildfires\n",
      "4  11     NaN      NaN      Typhoon Soudelor kills 28 in China and Taiwan\n"
     ]
    }
   ],
   "source": [
    "print(\"\\nTest Data:\")\n",
    "print(test_df.head())\n"
   ]
  },
  {
   "cell_type": "code",
   "execution_count": 6,
   "id": "1898abdd",
   "metadata": {
    "execution": {
     "iopub.execute_input": "2025-01-19T10:05:04.502234Z",
     "iopub.status.busy": "2025-01-19T10:05:04.501802Z",
     "iopub.status.idle": "2025-01-19T10:05:04.513176Z",
     "shell.execute_reply": "2025-01-19T10:05:04.511773Z"
    },
    "papermill": {
     "duration": 0.018924,
     "end_time": "2025-01-19T10:05:04.515077",
     "exception": false,
     "start_time": "2025-01-19T10:05:04.496153",
     "status": "completed"
    },
    "tags": []
   },
   "outputs": [
    {
     "name": "stdout",
     "output_type": "stream",
     "text": [
      "\n",
      "Missing Values in Train Data:\n",
      "id             0\n",
      "keyword       61\n",
      "location    2533\n",
      "text           0\n",
      "target         0\n",
      "dtype: int64\n"
     ]
    }
   ],
   "source": [
    "# Check for missing values\n",
    "print(\"\\nMissing Values in Train Data:\")\n",
    "print(train_df.isnull().sum())\n",
    "\n"
   ]
  },
  {
   "cell_type": "code",
   "execution_count": 7,
   "id": "f7f6294b",
   "metadata": {
    "execution": {
     "iopub.execute_input": "2025-01-19T10:05:04.526644Z",
     "iopub.status.busy": "2025-01-19T10:05:04.526301Z",
     "iopub.status.idle": "2025-01-19T10:05:04.533356Z",
     "shell.execute_reply": "2025-01-19T10:05:04.532218Z"
    },
    "papermill": {
     "duration": 0.014595,
     "end_time": "2025-01-19T10:05:04.535035",
     "exception": false,
     "start_time": "2025-01-19T10:05:04.520440",
     "status": "completed"
    },
    "tags": []
   },
   "outputs": [
    {
     "name": "stdout",
     "output_type": "stream",
     "text": [
      "\n",
      "Missing Values in Test Data:\n",
      "id             0\n",
      "keyword       26\n",
      "location    1105\n",
      "text           0\n",
      "dtype: int64\n"
     ]
    }
   ],
   "source": [
    "print(\"\\nMissing Values in Test Data:\")\n",
    "print(test_df.isnull().sum())\n",
    "\n"
   ]
  },
  {
   "cell_type": "code",
   "execution_count": 8,
   "id": "cfbcacdc",
   "metadata": {
    "execution": {
     "iopub.execute_input": "2025-01-19T10:05:04.546551Z",
     "iopub.status.busy": "2025-01-19T10:05:04.546217Z",
     "iopub.status.idle": "2025-01-19T10:05:36.584907Z",
     "shell.execute_reply": "2025-01-19T10:05:36.583511Z"
    },
    "papermill": {
     "duration": 32.050811,
     "end_time": "2025-01-19T10:05:36.591281",
     "exception": false,
     "start_time": "2025-01-19T10:05:04.540470",
     "status": "completed"
    },
    "tags": []
   },
   "outputs": [
    {
     "name": "stdout",
     "output_type": "stream",
     "text": [
      "[nltk_data] Error loading stopwords: <urlopen error [Errno -3]\n",
      "[nltk_data]     Temporary failure in name resolution>\n"
     ]
    }
   ],
   "source": [
    "\n",
    "nltk.download('stopwords')\n",
    "stop_words = set(stopwords.words('english'))\n"
   ]
  },
  {
   "cell_type": "code",
   "execution_count": 9,
   "id": "6d4e5f32",
   "metadata": {
    "execution": {
     "iopub.execute_input": "2025-01-19T10:05:36.602294Z",
     "iopub.status.busy": "2025-01-19T10:05:36.601896Z",
     "iopub.status.idle": "2025-01-19T10:05:36.607507Z",
     "shell.execute_reply": "2025-01-19T10:05:36.606283Z"
    },
    "papermill": {
     "duration": 0.013147,
     "end_time": "2025-01-19T10:05:36.609331",
     "exception": false,
     "start_time": "2025-01-19T10:05:36.596184",
     "status": "completed"
    },
    "tags": []
   },
   "outputs": [],
   "source": [
    "\n",
    "def clean_text(text):\n",
    "    # Remove URLs\n",
    "    text = re.sub(r\"http\\S+\", \"\", text)\n",
    "    # Remove special characters and numbers\n",
    "    text = re.sub(r\"[^a-zA-Z\\s]\", \"\", text)\n",
    "    # Convert to lowercase\n",
    "    text = text.lower()\n",
    "    # Remove stopwords\n",
    "    text = \" \".join(word for word in text.split() if word not in stop_words)\n",
    "    return text\n"
   ]
  },
  {
   "cell_type": "code",
   "execution_count": 10,
   "id": "961fbfc5",
   "metadata": {
    "execution": {
     "iopub.execute_input": "2025-01-19T10:05:36.620787Z",
     "iopub.status.busy": "2025-01-19T10:05:36.620424Z",
     "iopub.status.idle": "2025-01-19T10:05:36.713267Z",
     "shell.execute_reply": "2025-01-19T10:05:36.712051Z"
    },
    "papermill": {
     "duration": 0.101004,
     "end_time": "2025-01-19T10:05:36.715322",
     "exception": false,
     "start_time": "2025-01-19T10:05:36.614318",
     "status": "completed"
    },
    "tags": []
   },
   "outputs": [],
   "source": [
    "# Apply cleaning function\n",
    "train_df['clean_text'] = train_df['text'].apply(clean_text)\n",
    "test_df['clean_text'] = test_df['text'].apply(clean_text)\n",
    "\n"
   ]
  },
  {
   "cell_type": "code",
   "execution_count": 11,
   "id": "819fbe19",
   "metadata": {
    "execution": {
     "iopub.execute_input": "2025-01-19T10:05:36.726524Z",
     "iopub.status.busy": "2025-01-19T10:05:36.726151Z",
     "iopub.status.idle": "2025-01-19T10:05:36.741160Z",
     "shell.execute_reply": "2025-01-19T10:05:36.740016Z"
    },
    "papermill": {
     "duration": 0.022451,
     "end_time": "2025-01-19T10:05:36.742788",
     "exception": false,
     "start_time": "2025-01-19T10:05:36.720337",
     "status": "completed"
    },
    "tags": []
   },
   "outputs": [
    {
     "name": "stdout",
     "output_type": "stream",
     "text": [
      "                                                text  \\\n",
      "0  Our Deeds are the Reason of this #earthquake M...   \n",
      "1             Forest fire near La Ronge Sask. Canada   \n",
      "2  All residents asked to 'shelter in place' are ...   \n",
      "3  13,000 people receive #wildfires evacuation or...   \n",
      "4  Just got sent this photo from Ruby #Alaska as ...   \n",
      "\n",
      "                                          clean_text  \n",
      "0       deeds reason earthquake may allah forgive us  \n",
      "1              forest fire near la ronge sask canada  \n",
      "2  residents asked shelter place notified officer...  \n",
      "3  people receive wildfires evacuation orders cal...  \n",
      "4  got sent photo ruby alaska smoke wildfires pou...  \n"
     ]
    }
   ],
   "source": [
    "# Preview cleaned data\n",
    "print(train_df[['text', 'clean_text']].head())\n",
    "\n"
   ]
  },
  {
   "cell_type": "code",
   "execution_count": 12,
   "id": "50584739",
   "metadata": {
    "execution": {
     "iopub.execute_input": "2025-01-19T10:05:36.754461Z",
     "iopub.status.busy": "2025-01-19T10:05:36.754107Z",
     "iopub.status.idle": "2025-01-19T10:05:36.758170Z",
     "shell.execute_reply": "2025-01-19T10:05:36.757132Z"
    },
    "papermill": {
     "duration": 0.011678,
     "end_time": "2025-01-19T10:05:36.759855",
     "exception": false,
     "start_time": "2025-01-19T10:05:36.748177",
     "status": "completed"
    },
    "tags": []
   },
   "outputs": [],
   "source": [
    "# Initialize TF-IDF Vectorizer\n",
    "tfidf = TfidfVectorizer()\n",
    "\n"
   ]
  },
  {
   "cell_type": "code",
   "execution_count": 13,
   "id": "ed736b52",
   "metadata": {
    "execution": {
     "iopub.execute_input": "2025-01-19T10:05:36.771260Z",
     "iopub.status.busy": "2025-01-19T10:05:36.770874Z",
     "iopub.status.idle": "2025-01-19T10:05:36.939237Z",
     "shell.execute_reply": "2025-01-19T10:05:36.938046Z"
    },
    "papermill": {
     "duration": 0.176099,
     "end_time": "2025-01-19T10:05:36.941174",
     "exception": false,
     "start_time": "2025-01-19T10:05:36.765075",
     "status": "completed"
    },
    "tags": []
   },
   "outputs": [],
   "source": [
    "# Transform the clean_text column\n",
    "X_train = tfidf.fit_transform(train_df['clean_text'])\n",
    "X_test = tfidf.transform(test_df['clean_text'])\n"
   ]
  },
  {
   "cell_type": "code",
   "execution_count": 14,
   "id": "99fbf02d",
   "metadata": {
    "execution": {
     "iopub.execute_input": "2025-01-19T10:05:36.952354Z",
     "iopub.status.busy": "2025-01-19T10:05:36.951963Z",
     "iopub.status.idle": "2025-01-19T10:05:36.956362Z",
     "shell.execute_reply": "2025-01-19T10:05:36.955307Z"
    },
    "papermill": {
     "duration": 0.01176,
     "end_time": "2025-01-19T10:05:36.957984",
     "exception": false,
     "start_time": "2025-01-19T10:05:36.946224",
     "status": "completed"
    },
    "tags": []
   },
   "outputs": [],
   "source": [
    "# Target variable\n",
    "y_train = train_df['target']\n"
   ]
  },
  {
   "cell_type": "code",
   "execution_count": 15,
   "id": "b5632251",
   "metadata": {
    "execution": {
     "iopub.execute_input": "2025-01-19T10:05:36.969165Z",
     "iopub.status.busy": "2025-01-19T10:05:36.968783Z",
     "iopub.status.idle": "2025-01-19T10:05:36.973170Z",
     "shell.execute_reply": "2025-01-19T10:05:36.971986Z"
    },
    "papermill": {
     "duration": 0.012192,
     "end_time": "2025-01-19T10:05:36.975234",
     "exception": false,
     "start_time": "2025-01-19T10:05:36.963042",
     "status": "completed"
    },
    "tags": []
   },
   "outputs": [],
   "source": [
    "# Initialize the model\n",
    "model = LogisticRegression()\n"
   ]
  },
  {
   "cell_type": "code",
   "execution_count": 16,
   "id": "07bccfa8",
   "metadata": {
    "execution": {
     "iopub.execute_input": "2025-01-19T10:05:36.987468Z",
     "iopub.status.busy": "2025-01-19T10:05:36.987121Z",
     "iopub.status.idle": "2025-01-19T10:05:38.102392Z",
     "shell.execute_reply": "2025-01-19T10:05:38.097529Z"
    },
    "papermill": {
     "duration": 1.1321,
     "end_time": "2025-01-19T10:05:38.113423",
     "exception": false,
     "start_time": "2025-01-19T10:05:36.981323",
     "status": "completed"
    },
    "tags": []
   },
   "outputs": [
    {
     "data": {
      "text/html": [
       "<style>#sk-container-id-1 {color: black;background-color: white;}#sk-container-id-1 pre{padding: 0;}#sk-container-id-1 div.sk-toggleable {background-color: white;}#sk-container-id-1 label.sk-toggleable__label {cursor: pointer;display: block;width: 100%;margin-bottom: 0;padding: 0.3em;box-sizing: border-box;text-align: center;}#sk-container-id-1 label.sk-toggleable__label-arrow:before {content: \"▸\";float: left;margin-right: 0.25em;color: #696969;}#sk-container-id-1 label.sk-toggleable__label-arrow:hover:before {color: black;}#sk-container-id-1 div.sk-estimator:hover label.sk-toggleable__label-arrow:before {color: black;}#sk-container-id-1 div.sk-toggleable__content {max-height: 0;max-width: 0;overflow: hidden;text-align: left;background-color: #f0f8ff;}#sk-container-id-1 div.sk-toggleable__content pre {margin: 0.2em;color: black;border-radius: 0.25em;background-color: #f0f8ff;}#sk-container-id-1 input.sk-toggleable__control:checked~div.sk-toggleable__content {max-height: 200px;max-width: 100%;overflow: auto;}#sk-container-id-1 input.sk-toggleable__control:checked~label.sk-toggleable__label-arrow:before {content: \"▾\";}#sk-container-id-1 div.sk-estimator input.sk-toggleable__control:checked~label.sk-toggleable__label {background-color: #d4ebff;}#sk-container-id-1 div.sk-label input.sk-toggleable__control:checked~label.sk-toggleable__label {background-color: #d4ebff;}#sk-container-id-1 input.sk-hidden--visually {border: 0;clip: rect(1px 1px 1px 1px);clip: rect(1px, 1px, 1px, 1px);height: 1px;margin: -1px;overflow: hidden;padding: 0;position: absolute;width: 1px;}#sk-container-id-1 div.sk-estimator {font-family: monospace;background-color: #f0f8ff;border: 1px dotted black;border-radius: 0.25em;box-sizing: border-box;margin-bottom: 0.5em;}#sk-container-id-1 div.sk-estimator:hover {background-color: #d4ebff;}#sk-container-id-1 div.sk-parallel-item::after {content: \"\";width: 100%;border-bottom: 1px solid gray;flex-grow: 1;}#sk-container-id-1 div.sk-label:hover label.sk-toggleable__label {background-color: #d4ebff;}#sk-container-id-1 div.sk-serial::before {content: \"\";position: absolute;border-left: 1px solid gray;box-sizing: border-box;top: 0;bottom: 0;left: 50%;z-index: 0;}#sk-container-id-1 div.sk-serial {display: flex;flex-direction: column;align-items: center;background-color: white;padding-right: 0.2em;padding-left: 0.2em;position: relative;}#sk-container-id-1 div.sk-item {position: relative;z-index: 1;}#sk-container-id-1 div.sk-parallel {display: flex;align-items: stretch;justify-content: center;background-color: white;position: relative;}#sk-container-id-1 div.sk-item::before, #sk-container-id-1 div.sk-parallel-item::before {content: \"\";position: absolute;border-left: 1px solid gray;box-sizing: border-box;top: 0;bottom: 0;left: 50%;z-index: -1;}#sk-container-id-1 div.sk-parallel-item {display: flex;flex-direction: column;z-index: 1;position: relative;background-color: white;}#sk-container-id-1 div.sk-parallel-item:first-child::after {align-self: flex-end;width: 50%;}#sk-container-id-1 div.sk-parallel-item:last-child::after {align-self: flex-start;width: 50%;}#sk-container-id-1 div.sk-parallel-item:only-child::after {width: 0;}#sk-container-id-1 div.sk-dashed-wrapped {border: 1px dashed gray;margin: 0 0.4em 0.5em 0.4em;box-sizing: border-box;padding-bottom: 0.4em;background-color: white;}#sk-container-id-1 div.sk-label label {font-family: monospace;font-weight: bold;display: inline-block;line-height: 1.2em;}#sk-container-id-1 div.sk-label-container {text-align: center;}#sk-container-id-1 div.sk-container {/* jupyter's `normalize.less` sets `[hidden] { display: none; }` but bootstrap.min.css set `[hidden] { display: none !important; }` so we also need the `!important` here to be able to override the default hidden behavior on the sphinx rendered scikit-learn.org. See: https://github.com/scikit-learn/scikit-learn/issues/21755 */display: inline-block !important;position: relative;}#sk-container-id-1 div.sk-text-repr-fallback {display: none;}</style><div id=\"sk-container-id-1\" class=\"sk-top-container\"><div class=\"sk-text-repr-fallback\"><pre>LogisticRegression()</pre><b>In a Jupyter environment, please rerun this cell to show the HTML representation or trust the notebook. <br />On GitHub, the HTML representation is unable to render, please try loading this page with nbviewer.org.</b></div><div class=\"sk-container\" hidden><div class=\"sk-item\"><div class=\"sk-estimator sk-toggleable\"><input class=\"sk-toggleable__control sk-hidden--visually\" id=\"sk-estimator-id-1\" type=\"checkbox\" checked><label for=\"sk-estimator-id-1\" class=\"sk-toggleable__label sk-toggleable__label-arrow\">LogisticRegression</label><div class=\"sk-toggleable__content\"><pre>LogisticRegression()</pre></div></div></div></div></div>"
      ],
      "text/plain": [
       "LogisticRegression()"
      ]
     },
     "execution_count": 16,
     "metadata": {},
     "output_type": "execute_result"
    }
   ],
   "source": [
    "# Train the model\n",
    "model.fit(X_train, y_train)\n"
   ]
  },
  {
   "cell_type": "code",
   "execution_count": 17,
   "id": "5831bade",
   "metadata": {
    "execution": {
     "iopub.execute_input": "2025-01-19T10:05:38.159143Z",
     "iopub.status.busy": "2025-01-19T10:05:38.158463Z",
     "iopub.status.idle": "2025-01-19T10:05:38.180541Z",
     "shell.execute_reply": "2025-01-19T10:05:38.177232Z"
    },
    "papermill": {
     "duration": 0.045555,
     "end_time": "2025-01-19T10:05:38.183662",
     "exception": false,
     "start_time": "2025-01-19T10:05:38.138107",
     "status": "completed"
    },
    "tags": []
   },
   "outputs": [
    {
     "name": "stdout",
     "output_type": "stream",
     "text": [
      "F1 Score (Training): 0.8546374367622259\n"
     ]
    }
   ],
   "source": [
    "# Evaluate on the training set\n",
    "y_pred = model.predict(X_train)\n",
    "print(\"F1 Score (Training):\", f1_score(y_train, y_pred))\n"
   ]
  },
  {
   "cell_type": "code",
   "execution_count": 18,
   "id": "c571de3f",
   "metadata": {
    "execution": {
     "iopub.execute_input": "2025-01-19T10:05:38.202337Z",
     "iopub.status.busy": "2025-01-19T10:05:38.201038Z",
     "iopub.status.idle": "2025-01-19T10:05:38.207098Z",
     "shell.execute_reply": "2025-01-19T10:05:38.206296Z"
    },
    "papermill": {
     "duration": 0.014797,
     "end_time": "2025-01-19T10:05:38.209022",
     "exception": false,
     "start_time": "2025-01-19T10:05:38.194225",
     "status": "completed"
    },
    "tags": []
   },
   "outputs": [],
   "source": [
    "# Predict on test data\n",
    "test_df['target'] = model.predict(X_test)\n"
   ]
  },
  {
   "cell_type": "code",
   "execution_count": 19,
   "id": "ed16d6f7",
   "metadata": {
    "execution": {
     "iopub.execute_input": "2025-01-19T10:05:38.220841Z",
     "iopub.status.busy": "2025-01-19T10:05:38.220465Z",
     "iopub.status.idle": "2025-01-19T10:05:38.232809Z",
     "shell.execute_reply": "2025-01-19T10:05:38.231763Z"
    },
    "papermill": {
     "duration": 0.020467,
     "end_time": "2025-01-19T10:05:38.234832",
     "exception": false,
     "start_time": "2025-01-19T10:05:38.214365",
     "status": "completed"
    },
    "tags": []
   },
   "outputs": [],
   "source": [
    "# Prepare the submission file\n",
    "submission = test_df[['id', 'target']]\n",
    "submission.to_csv('submission.csv', index=False)\n"
   ]
  },
  {
   "cell_type": "code",
   "execution_count": 20,
   "id": "5bf51cfb",
   "metadata": {
    "execution": {
     "iopub.execute_input": "2025-01-19T10:05:38.246828Z",
     "iopub.status.busy": "2025-01-19T10:05:38.246489Z",
     "iopub.status.idle": "2025-01-19T10:05:38.251495Z",
     "shell.execute_reply": "2025-01-19T10:05:38.250246Z"
    },
    "papermill": {
     "duration": 0.013041,
     "end_time": "2025-01-19T10:05:38.253331",
     "exception": false,
     "start_time": "2025-01-19T10:05:38.240290",
     "status": "completed"
    },
    "tags": []
   },
   "outputs": [
    {
     "name": "stdout",
     "output_type": "stream",
     "text": [
      "Submission file created: submission.csv\n"
     ]
    }
   ],
   "source": [
    "print(\"Submission file created: submission.csv\")"
   ]
  }
 ],
 "metadata": {
  "kaggle": {
   "accelerator": "none",
   "dataSources": [
    {
     "databundleVersionId": 869809,
     "sourceId": 17777,
     "sourceType": "competition"
    }
   ],
   "dockerImageVersionId": 30822,
   "isGpuEnabled": false,
   "isInternetEnabled": false,
   "language": "python",
   "sourceType": "notebook"
  },
  "kernelspec": {
   "display_name": "Python 3",
   "language": "python",
   "name": "python3"
  },
  "language_info": {
   "codemirror_mode": {
    "name": "ipython",
    "version": 3
   },
   "file_extension": ".py",
   "mimetype": "text/x-python",
   "name": "python",
   "nbconvert_exporter": "python",
   "pygments_lexer": "ipython3",
   "version": "3.10.12"
  },
  "papermill": {
   "default_parameters": {},
   "duration": 40.497998,
   "end_time": "2025-01-19T10:05:38.978712",
   "environment_variables": {},
   "exception": null,
   "input_path": "__notebook__.ipynb",
   "output_path": "__notebook__.ipynb",
   "parameters": {},
   "start_time": "2025-01-19T10:04:58.480714",
   "version": "2.6.0"
  }
 },
 "nbformat": 4,
 "nbformat_minor": 5
}
